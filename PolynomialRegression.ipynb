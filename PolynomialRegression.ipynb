{
  "nbformat": 4,
  "nbformat_minor": 0,
  "metadata": {
    "colab": {
      "provenance": [],
      "collapsed_sections": [],
      "toc_visible": true,
      "authorship_tag": "ABX9TyO+Ks6hJRgamQD4bhcHPhVA",
      "include_colab_link": true
    },
    "kernelspec": {
      "name": "python3",
      "display_name": "Python 3"
    },
    "language_info": {
      "name": "python"
    }
  },
  "cells": [
    {
      "cell_type": "markdown",
      "metadata": {
        "id": "view-in-github",
        "colab_type": "text"
      },
      "source": [
        "<a href=\"https://colab.research.google.com/github/HarshiniLara/ML-practice/blob/main/PolynomialRegression.ipynb\" target=\"_parent\"><img src=\"https://colab.research.google.com/assets/colab-badge.svg\" alt=\"Open In Colab\"/></a>"
      ]
    },
    {
      "cell_type": "markdown",
      "source": [
        "# Polynomial Linear Regression"
      ],
      "metadata": {
        "id": "HDWyXkXZv8x1"
      }
    },
    {
      "cell_type": "markdown",
      "source": [
        "## Importing libraries"
      ],
      "metadata": {
        "id": "4JakUlkywDSJ"
      }
    },
    {
      "cell_type": "code",
      "source": [
        "import numpy as np\n",
        "import pandas as pd\n",
        "import matplotlib.pyplot as plt"
      ],
      "metadata": {
        "id": "gCrfAaeYwOks"
      },
      "execution_count": 48,
      "outputs": []
    },
    {
      "cell_type": "markdown",
      "source": [
        "## Importing dataset"
      ],
      "metadata": {
        "id": "HEk5Mz6gwX4H"
      }
    },
    {
      "cell_type": "code",
      "source": [
        "dataset = pd.read_csv('Position_Salaries.csv')\n",
        "X = dataset.iloc[:, 1:-1].values\n",
        "Y = dataset.iloc[:, -1].values"
      ],
      "metadata": {
        "id": "7b8qE3Q6wbFG"
      },
      "execution_count": 49,
      "outputs": []
    },
    {
      "cell_type": "code",
      "source": [
        "print(dataset)"
      ],
      "metadata": {
        "colab": {
          "base_uri": "https://localhost:8080/"
        },
        "id": "qvP1MEYDMViY",
        "outputId": "c5fd91c6-39cf-4624-c489-a5caf719edde"
      },
      "execution_count": 50,
      "outputs": [
        {
          "output_type": "stream",
          "name": "stdout",
          "text": [
            "            Position  Level   Salary\n",
            "0   Business Analyst      1    45000\n",
            "1  Junior Consultant      2    50000\n",
            "2  Senior Consultant      3    60000\n",
            "3            Manager      4    80000\n",
            "4    Country Manager      5   110000\n",
            "5     Region Manager      6   150000\n",
            "6            Partner      7   200000\n",
            "7     Senior Partner      8   300000\n",
            "8            C-level      9   500000\n",
            "9                CEO     10  1000000\n"
          ]
        }
      ]
    },
    {
      "cell_type": "markdown",
      "source": [
        "## Training the Polynomial Regression model on the whole set"
      ],
      "metadata": {
        "id": "deJ7-jw6Cy3l"
      }
    },
    {
      "cell_type": "code",
      "source": [
        "from sklearn.linear_model import LinearRegression\n",
        "from sklearn.preprocessing import PolynomialFeatures\n",
        "poly_reg = PolynomialFeatures(degree = 4)\n",
        "X_poly = poly_reg.fit_transform(X)\n",
        "lin_reg = LinearRegression()\n",
        "lin_reg.fit(X_poly, Y)"
      ],
      "metadata": {
        "colab": {
          "base_uri": "https://localhost:8080/"
        },
        "id": "25fzBXI7DEP5",
        "outputId": "b9c2eaf9-305a-49f4-80ef-a2e8e7c7028b"
      },
      "execution_count": 51,
      "outputs": [
        {
          "output_type": "execute_result",
          "data": {
            "text/plain": [
              "LinearRegression()"
            ]
          },
          "metadata": {},
          "execution_count": 51
        }
      ]
    },
    {
      "cell_type": "markdown",
      "source": [
        "## Visualizing Polynomial Regression results with degree 4"
      ],
      "metadata": {
        "id": "uexCFOmtIXeL"
      }
    },
    {
      "cell_type": "code",
      "source": [
        "plt.scatter(X, Y, color=\"red\")\n",
        "plt.plot(X, lin_reg.predict(X_poly), color=\"blue\")\n",
        "plt.title(\"Polynomial Regression results\")\n",
        "plt.xlabel(\"position no\")\n",
        "plt.ylabel(\"salaries\")\n",
        "plt.show()"
      ],
      "metadata": {
        "colab": {
          "base_uri": "https://localhost:8080/",
          "height": 295
        },
        "id": "ft8dQ5StIftu",
        "outputId": "9616ddf8-1191-45d4-e8ef-1b6e5b9f91f9"
      },
      "execution_count": 52,
      "outputs": [
        {
          "output_type": "display_data",
          "data": {
            "text/plain": [
              "<Figure size 432x288 with 1 Axes>"
            ],
            "image/png": "[encoded data removed]"
          },
          "metadata": {
            "needs_background": "light"
          }
        }
      ]
    },
    {
      "cell_type": "markdown",
      "source": [
        "## Predicting the results"
      ],
      "metadata": {
        "id": "XzCP6Ap5KeIQ"
      }
    },
    {
      "cell_type": "code",
      "source": [
        "Y_pred = lin_reg.predict(X_poly)\n",
        "np.set_printoptions(precision = 2)\n",
        "print(Y_pred.reshape(len(Y_pred), 1))"
      ],
      "metadata": {
        "colab": {
          "base_uri": "https://localhost:8080/"
        },
        "id": "N6l2Lm8UKjQT",
        "outputId": "b49d2820-89c4-4e3c-e31d-9e997e975b96"
      },
      "execution_count": 53,
      "outputs": [
        {
          "output_type": "stream",
          "name": "stdout",
          "text": [
            "[[ 53356.64]\n",
            " [ 31759.91]\n",
            " [ 58642.19]\n",
            " [ 94632.87]\n",
            " [121724.94]\n",
            " [143275.06]\n",
            " [184003.5 ]\n",
            " [289994.17]\n",
            " [528694.64]\n",
            " [988916.08]]\n"
          ]
        }
      ]
    },
    {
      "cell_type": "code",
      "source": [
        "print(lin_reg.predict(poly_reg.fit_transform([[7.5]])))"
      ],
      "metadata": {
        "colab": {
          "base_uri": "https://localhost:8080/"
        },
        "id": "T1PhCb_mOGLj",
        "outputId": "56a9199c-e7d9-4c4c-f6f2-01d8e22e344a"
      },
      "execution_count": 54,
      "outputs": [
        {
          "output_type": "stream",
          "name": "stdout",
          "text": [
            "[225126.29]\n"
          ]
        }
      ]
    }
  ]
}